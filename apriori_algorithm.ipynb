{
 "cells": [
  {
   "cell_type": "markdown",
   "metadata": {
    "id": "8ABgxnvGHw3H"
   },
   "source": [
    "### Task - 1: Apriori Algorithm for Recommender Systems Naive (Complete)"
   ]
  },
  {
   "cell_type": "markdown",
   "metadata": {
    "id": "urxaxITsHouP"
   },
   "source": [
    "#### Libraries used:"
   ]
  },
  {
   "cell_type": "code",
   "execution_count": 1,
   "metadata": {
    "id": "HBvbJ7QVEyxc"
   },
   "outputs": [],
   "source": [
    "import numpy as np\n",
    "import pandas as pd\n",
    "import itertools\n",
    "from collections import Counter"
   ]
  },
  {
   "cell_type": "markdown",
   "metadata": {
    "id": "RljdgKiyH64P"
   },
   "source": [
    "#### Load data from movies.txt:"
   ]
  },
  {
   "cell_type": "code",
   "execution_count": 2,
   "metadata": {
    "id": "VvCYN8GLGuJz"
   },
   "outputs": [],
   "source": [
    "address = \"\""
   ]
  },
  {
   "cell_type": "code",
   "execution_count": 3,
   "metadata": {
    "id": "jsUnPzl_xnC1"
   },
   "outputs": [],
   "source": [
    "data_string = \"\"\n",
    "f = open(address + \"movies.txt\", \"r\")\n",
    "data_string = f.read()"
   ]
  },
  {
   "cell_type": "markdown",
   "metadata": {
    "id": "ZihDcaYDIlDD"
   },
   "source": [
    "> Put the data in a python list. Movie suggestions are saved as a whole string in the text file, we have to seperate them into different elements."
   ]
  },
  {
   "cell_type": "code",
   "execution_count": 4,
   "metadata": {
    "id": "Wuwv2LZQ3x9h"
   },
   "outputs": [],
   "source": [
    "data = data_string.split('\\n')"
   ]
  },
  {
   "cell_type": "code",
   "execution_count": 5,
   "metadata": {
    "id": "Q87XPcavzjlx"
   },
   "outputs": [],
   "source": [
    "fav_list = np.char.split(np.array(data), sep =';')"
   ]
  },
  {
   "cell_type": "markdown",
   "metadata": {
    "id": "dzGbe_JZI4M5"
   },
   "source": [
    "> Find all of unique movies and put them in a different list."
   ]
  },
  {
   "cell_type": "code",
   "execution_count": 6,
   "metadata": {
    "id": "hf8tIICLK9YD"
   },
   "outputs": [],
   "source": [
    "all_movies = []\n",
    "for favs in fav_list:\n",
    "    for movie in favs:\n",
    "        if movie not in all_movies:\n",
    "            all_movies.append(movie)\n",
    "all_movies = sorted(all_movies)\n",
    "all_movies = np.array([i for i in all_movies if i])"
   ]
  },
  {
   "cell_type": "code",
   "execution_count": 7,
   "metadata": {
    "colab": {
     "base_uri": "https://localhost:8080/"
    },
    "executionInfo": {
     "elapsed": 4,
     "status": "ok",
     "timestamp": 1673639978952,
     "user": {
      "displayName": "Roham J",
      "userId": "05484521296017075099"
     },
     "user_tz": -60
    },
    "id": "EOQKHMsOLYX1",
    "outputId": "1e2adad4-42d2-4819-e998-148b19b59583"
   },
   "outputs": [
    {
     "data": {
      "text/plain": [
       "50"
      ]
     },
     "execution_count": 7,
     "metadata": {},
     "output_type": "execute_result"
    }
   ],
   "source": [
    "len(all_movies)"
   ]
  },
  {
   "cell_type": "code",
   "execution_count": 8,
   "metadata": {
    "colab": {
     "base_uri": "https://localhost:8080/"
    },
    "executionInfo": {
     "elapsed": 3,
     "status": "ok",
     "timestamp": 1673639978952,
     "user": {
      "displayName": "Roham J",
      "userId": "05484521296017075099"
     },
     "user_tz": -60
    },
    "id": "VtAaq5eXLaey",
    "outputId": "736938c4-caaa-4040-e7cd-5ac6ef5eb741"
   },
   "outputs": [
    {
     "data": {
      "text/plain": [
       "array(['A Star Is Born', 'Alita: Battle Angel', 'Annihilation', 'Aquaman',\n",
       "       'Bad Times at the El Royale', 'Bird Box', 'BlacKkKlansman',\n",
       "       'Black Mirror: Bandersnatch', 'Bohemian Rhapsody',\n",
       "       'Captain Marvel', 'Crazy Rich Asians', 'Deadpool 2',\n",
       "       'Eighth Grade', 'Fantastic Beasts and Where to Find Them 2',\n",
       "       'First Man', 'Free Solo', 'Game Night', 'Glass', 'Green Book',\n",
       "       'Guardians of the Galaxy', 'Hereditary', 'Inception',\n",
       "       'Incredibles 2', 'Iron Man', 'Iron Man 2', 'Isle of Dogs',\n",
       "       'John Wick: Chapter 3 – Parabellum', 'Joker',\n",
       "       'Jurassic World: Fallen Kingdom', 'Love, Simon',\n",
       "       'Mission: Impossible - Fallout', \"Ocean's 8\",\n",
       "       'Once Upon a Time in Hollywood', 'Pacific Rim: Uprising',\n",
       "       'Ralph Breaks the Internet', 'Red Sparrow', 'Roma', 'Searching',\n",
       "       'Shazam!', 'Solo: A Star Wars Story', 'Sorry to Bother You',\n",
       "       'Spider-Man: Into the Spider-Verse', 'Spider-Man: No Way Home',\n",
       "       'The Ballad of Buster Scruggs', 'The Cloverfield Paradox',\n",
       "       'Tomb Raider', 'Upgrade', 'Us', 'Venom',\n",
       "       \"Won't You Be My Neighbor?\"], dtype='<U41')"
      ]
     },
     "execution_count": 8,
     "metadata": {},
     "output_type": "execute_result"
    }
   ],
   "source": [
    "all_movies"
   ]
  },
  {
   "cell_type": "markdown",
   "metadata": {
    "id": "hzMS1GknJXXr"
   },
   "source": [
    "#### Apriori Algorithm:"
   ]
  },
  {
   "cell_type": "markdown",
   "metadata": {
    "id": "zJcmzR-9Nw8x"
   },
   "source": [
    "##### PART (a):"
   ]
  },
  {
   "cell_type": "markdown",
   "metadata": {
    "id": "cKSVmJtzKB20"
   },
   "source": [
    "> Find all 1-itemsets."
   ]
  },
  {
   "cell_type": "code",
   "execution_count": 9,
   "metadata": {
    "id": "HaPxvxMNOSq7"
   },
   "outputs": [],
   "source": [
    "c = Counter()\n",
    "for movie in all_movies:\n",
    "    for favs in fav_list:\n",
    "        if(movie in favs):\n",
    "            c[movie]+=1"
   ]
  },
  {
   "cell_type": "code",
   "execution_count": 10,
   "metadata": {
    "colab": {
     "base_uri": "https://localhost:8080/"
    },
    "executionInfo": {
     "elapsed": 4,
     "status": "ok",
     "timestamp": 1673639979169,
     "user": {
      "displayName": "Roham J",
      "userId": "05484521296017075099"
     },
     "user_tz": -60
    },
    "id": "W29J0TdvLi_l",
    "outputId": "199cf95b-cb74-4a51-c33c-3c77290c1777"
   },
   "outputs": [
    {
     "name": "stdout",
     "output_type": "stream",
     "text": [
      "C1:\n",
      "['A Star Is Born']: 1013\n",
      "['Alita: Battle Angel']: 615\n",
      "['Annihilation']: 1916\n",
      "['Aquaman']: 943\n",
      "['Bad Times at the El Royale']: 598\n",
      "['Bird Box']: 873\n",
      "['BlacKkKlansman']: 1215\n",
      "['Black Mirror: Bandersnatch']: 791\n",
      "['Bohemian Rhapsody']: 2052\n",
      "['Captain Marvel']: 1263\n",
      "['Crazy Rich Asians']: 682\n",
      "['Deadpool 2']: 4002\n",
      "['Eighth Grade']: 534\n",
      "['Fantastic Beasts and Where to Find Them 2']: 874\n",
      "['First Man']: 682\n",
      "['Free Solo']: 709\n",
      "['Game Night']: 1317\n",
      "['Glass']: 585\n",
      "['Green Book']: 1812\n",
      "['Guardians of the Galaxy']: 1826\n",
      "['Hereditary']: 1278\n",
      "['Inception']: 2202\n",
      "['Incredibles 2']: 2728\n",
      "['Iron Man']: 5292\n",
      "['Iron Man 2']: 2769\n",
      "['Isle of Dogs']: 1898\n",
      "['John Wick: Chapter 3 – Parabellum']: 731\n",
      "['Joker']: 792\n",
      "['Jurassic World: Fallen Kingdom']: 887\n",
      "['Love, Simon']: 488\n",
      "['Mission: Impossible - Fallout']: 1525\n",
      "[\"Ocean's 8\"]: 850\n",
      "['Once Upon a Time in Hollywood']: 859\n",
      "['Pacific Rim: Uprising']: 504\n",
      "['Ralph Breaks the Internet']: 611\n",
      "['Red Sparrow']: 602\n",
      "['Roma']: 801\n",
      "['Searching']: 812\n",
      "['Shazam!']: 642\n",
      "['Solo: A Star Wars Story']: 1465\n",
      "['Sorry to Bother You']: 761\n",
      "['Spider-Man: Into the Spider-Verse']: 2976\n",
      "['Spider-Man: No Way Home']: 1130\n",
      "['The Ballad of Buster Scruggs']: 920\n",
      "['The Cloverfield Paradox']: 557\n",
      "['Tomb Raider']: 741\n",
      "['Upgrade']: 1025\n",
      "['Us']: 765\n",
      "['Venom']: 1093\n",
      "[\"Won't You Be My Neighbor?\"]: 580\n",
      "\n"
     ]
    }
   ],
   "source": [
    "print(\"C1:\")\n",
    "for movie in c:\n",
    "    print(str([movie]) + \": \" + str(c[movie]))\n",
    "print()"
   ]
  },
  {
   "cell_type": "markdown",
   "metadata": {
    "id": "80DNkY-hKFjG"
   },
   "source": [
    "> Find frequent 1-itemsets with an absolute support of 490.\n",
    "\n",
    "> All frequent itemsets will be stored in l_all for finding a recommendation later.\n",
    "\n",
    "\n",
    "\n"
   ]
  },
  {
   "cell_type": "code",
   "execution_count": 11,
   "metadata": {
    "id": "hEevCqdSJjC2"
   },
   "outputs": [],
   "source": [
    "s = 490"
   ]
  },
  {
   "cell_type": "code",
   "execution_count": 12,
   "metadata": {
    "id": "GZwHlmzFPgq3"
   },
   "outputs": [],
   "source": [
    "l = Counter()\n",
    "l_all = Counter()\n",
    "for movie in c:\n",
    "    if(c[movie] >= s):\n",
    "        l[frozenset([movie])] +=c [movie]\n",
    "        l_all[frozenset([movie])] +=c [movie]\n",
    "\n"
   ]
  },
  {
   "cell_type": "code",
   "execution_count": 13,
   "metadata": {
    "colab": {
     "base_uri": "https://localhost:8080/"
    },
    "executionInfo": {
     "elapsed": 4,
     "status": "ok",
     "timestamp": 1673639979169,
     "user": {
      "displayName": "Roham J",
      "userId": "05484521296017075099"
     },
     "user_tz": -60
    },
    "id": "T83otInGLAGG",
    "outputId": "9ba23392-28e5-48ec-8564-9e5f3af96981"
   },
   "outputs": [
    {
     "name": "stdout",
     "output_type": "stream",
     "text": [
      "L1:\n",
      "1013:A Star Is Born\n",
      "615:Alita: Battle Angel\n",
      "1916:Annihilation\n",
      "943:Aquaman\n",
      "598:Bad Times at the El Royale\n",
      "873:Bird Box\n",
      "1215:BlacKkKlansman\n",
      "791:Black Mirror: Bandersnatch\n",
      "2052:Bohemian Rhapsody\n",
      "1263:Captain Marvel\n",
      "682:Crazy Rich Asians\n",
      "4002:Deadpool 2\n",
      "534:Eighth Grade\n",
      "874:Fantastic Beasts and Where to Find Them 2\n",
      "682:First Man\n",
      "709:Free Solo\n",
      "1317:Game Night\n",
      "585:Glass\n",
      "1812:Green Book\n",
      "1826:Guardians of the Galaxy\n",
      "1278:Hereditary\n",
      "2202:Inception\n",
      "2728:Incredibles 2\n",
      "5292:Iron Man\n",
      "2769:Iron Man 2\n",
      "1898:Isle of Dogs\n",
      "731:John Wick: Chapter 3 – Parabellum\n",
      "792:Joker\n",
      "887:Jurassic World: Fallen Kingdom\n",
      "1525:Mission: Impossible - Fallout\n",
      "850:Ocean's 8\n",
      "859:Once Upon a Time in Hollywood\n",
      "504:Pacific Rim: Uprising\n",
      "611:Ralph Breaks the Internet\n",
      "602:Red Sparrow\n",
      "801:Roma\n",
      "812:Searching\n",
      "642:Shazam!\n",
      "1465:Solo: A Star Wars Story\n",
      "761:Sorry to Bother You\n",
      "2976:Spider-Man: Into the Spider-Verse\n",
      "1130:Spider-Man: No Way Home\n",
      "920:The Ballad of Buster Scruggs\n",
      "557:The Cloverfield Paradox\n",
      "741:Tomb Raider\n",
      "1025:Upgrade\n",
      "765:Us\n",
      "1093:Venom\n",
      "580:Won't You Be My Neighbor?\n",
      "\n",
      "49\n"
     ]
    }
   ],
   "source": [
    "print(\"L1:\")\n",
    "for movie in l:\n",
    "    print(str(l[movie])+\":\"+str(list(movie)[0]))\n",
    "print()\n",
    "print(len(l))"
   ]
  },
  {
   "cell_type": "markdown",
   "metadata": {
    "id": "8cUE_mObLvxU"
   },
   "source": [
    "##### PART (a) OUTPUT:\n",
    "> The following block of code will save frequent 1-itemsets and their absolute support in a text file name oneItems.txt"
   ]
  },
  {
   "cell_type": "code",
   "execution_count": 14,
   "metadata": {
    "id": "-QFccC1ihApA"
   },
   "outputs": [],
   "source": [
    "\n",
    "with open(address + 'oneItems.txt', 'w') as f:\n",
    "    for movie in l:\n",
    "        f.write(str(l[movie])+\":\"+str(list(movie)[0]))\n",
    "        f.write('\\n')"
   ]
  },
  {
   "cell_type": "markdown",
   "metadata": {
    "id": "KM9c2GAHN_QP"
   },
   "source": [
    "##### PART (b):"
   ]
  },
  {
   "cell_type": "markdown",
   "metadata": {
    "id": "SSjpW4EIMRuJ"
   },
   "source": [
    "> Find larger itemsets, then store frequent itemsets in a text file names patterns.txt\n",
    "\n",
    "> all itemsets are added to variable l_all for the recommendation system."
   ]
  },
  {
   "cell_type": "markdown",
   "metadata": {
    "id": "luKQDKghMyaU"
   },
   "source": [
    "(uncomment codes to see an output)"
   ]
  },
  {
   "cell_type": "code",
   "execution_count": 15,
   "metadata": {
    "id": "Z00a84Q0K2Hk"
   },
   "outputs": [],
   "source": [
    "temp_c = c\n",
    "temp_l = l\n",
    "\n",
    "for count in range (2,1000):\n",
    "    ##\n",
    "    nc = set()\n",
    "    temp = list(temp_l)\n",
    "    for i in range(0,len(temp)):\n",
    "        for j in range(i+1,len(temp)):\n",
    "            t = temp[i].union(temp[j])\n",
    "            if(len(t) == count):\n",
    "                nc.add(temp[i].union(temp[j]))\n",
    "    nc = list(nc)\n",
    "    #\n",
    "    ###\n",
    "    #\n",
    "    # the following loop finds all of i-Itemsets with their absolute support.\n",
    "    #\n",
    "    temp_c = Counter()\n",
    "    for movies_grp in nc:\n",
    "        temp_c[movies_grp] = 0\n",
    "        for favs in fav_list:\n",
    "            temp = set(favs)\n",
    "            if(movies_grp.issubset(temp)):\n",
    "                temp_c[movies_grp]+=1\n",
    "    #\n",
    "    ###\n",
    "    #\n",
    "    ### uncomment the following code to see an output of all i-Itemsets with\n",
    "    ### their absolute support.\n",
    "    #\n",
    "    # print(\"C\"+str(count)+\":\")\n",
    "    # for movies_grp in temp_c:\n",
    "    #     print(str(list(movies_grp))+\": \"+str(temp_c[movies_grp]))\n",
    "    # print()\n",
    "    \n",
    "    ###\n",
    "    #\n",
    "    ###\n",
    "    #\n",
    "    # the following loop finds all frequent i-Itemsets with their absolute\n",
    "    # support.\n",
    "    #\n",
    "    temp_l = Counter()\n",
    "    for movies_grp in temp_c:\n",
    "        if(temp_c[movies_grp] >= s):\n",
    "            temp_l[movies_grp]+=temp_c[movies_grp]\n",
    "            l_all[movies_grp]+=temp_c[movies_grp]\n",
    "    #\n",
    "    ###\n",
    "    \n",
    "    ## uncomment the following code to see an output of all frequent\n",
    "    ##i-Itemsets with their absolute support. \n",
    "    \n",
    "    # print(\"L\"+str(count)+\":\")\n",
    "    # for movies_grp in temp_l:\n",
    "    #     # print(str(list(movies_grp))+\": \"+str(temp_l[movies_grp]))\n",
    "    #     print(str(temp_l[movies_grp])+\":\", end=\"\")\n",
    "    #     for movie in list(movies_grp):\n",
    "    #         print(str(movie)+\";\", end=\"\")\n",
    "    #     print(\"\\n\")\n",
    "    # print()\n",
    "\n",
    "    # \n",
    "    ###\n",
    "    #\n",
    "    #\n",
    "    # break the main loop when no more i-Itemsets are available.\n",
    "    #\n",
    "    if(len(temp_l) == 0):\n",
    "        break\n",
    "    ##"
   ]
  },
  {
   "cell_type": "markdown",
   "metadata": {
    "id": "7Po-EPDIuwUf"
   },
   "source": [
    "> Write all item-sets in patterns.txt:"
   ]
  },
  {
   "cell_type": "code",
   "execution_count": 16,
   "metadata": {
    "colab": {
     "base_uri": "https://localhost:8080/"
    },
    "executionInfo": {
     "elapsed": 1082,
     "status": "ok",
     "timestamp": 1673640008834,
     "user": {
      "displayName": "Roham J",
      "userId": "05484521296017075099"
     },
     "user_tz": -60
    },
    "id": "2-Cx7Bjk3DfT",
    "outputId": "d48ba3fc-208d-4da9-ea48-18a46d1cd5d0"
   },
   "outputs": [
    {
     "name": "stdout",
     "output_type": "stream",
     "text": [
      "1013:A Star Is Born\n",
      "\n",
      "615:Alita: Battle Angel\n",
      "\n",
      "1916:Annihilation\n",
      "\n",
      "943:Aquaman\n",
      "\n",
      "598:Bad Times at the El Royale\n",
      "\n",
      "873:Bird Box\n",
      "\n",
      "1215:BlacKkKlansman\n",
      "\n",
      "791:Black Mirror: Bandersnatch\n",
      "\n",
      "2052:Bohemian Rhapsody\n",
      "\n",
      "1263:Captain Marvel\n",
      "\n",
      "682:Crazy Rich Asians\n",
      "\n",
      "4002:Deadpool 2\n",
      "\n",
      "534:Eighth Grade\n",
      "\n",
      "874:Fantastic Beasts and Where to Find Them 2\n",
      "\n",
      "682:First Man\n",
      "\n",
      "709:Free Solo\n",
      "\n",
      "1317:Game Night\n",
      "\n",
      "585:Glass\n",
      "\n",
      "1812:Green Book\n",
      "\n",
      "1826:Guardians of the Galaxy\n",
      "\n",
      "1278:Hereditary\n",
      "\n",
      "2202:Inception\n",
      "\n",
      "2728:Incredibles 2\n",
      "\n",
      "5292:Iron Man\n",
      "\n",
      "2769:Iron Man 2\n",
      "\n",
      "1898:Isle of Dogs\n",
      "\n",
      "731:John Wick: Chapter 3 – Parabellum\n",
      "\n",
      "792:Joker\n",
      "\n",
      "887:Jurassic World: Fallen Kingdom\n",
      "\n",
      "1525:Mission: Impossible - Fallout\n",
      "\n",
      "850:Ocean's 8\n",
      "\n",
      "859:Once Upon a Time in Hollywood\n",
      "\n",
      "504:Pacific Rim: Uprising\n",
      "\n",
      "611:Ralph Breaks the Internet\n",
      "\n",
      "602:Red Sparrow\n",
      "\n",
      "801:Roma\n",
      "\n",
      "812:Searching\n",
      "\n",
      "642:Shazam!\n",
      "\n",
      "1465:Solo: A Star Wars Story\n",
      "\n",
      "761:Sorry to Bother You\n",
      "\n",
      "2976:Spider-Man: Into the Spider-Verse\n",
      "\n",
      "1130:Spider-Man: No Way Home\n",
      "\n",
      "920:The Ballad of Buster Scruggs\n",
      "\n",
      "557:The Cloverfield Paradox\n",
      "\n",
      "741:Tomb Raider\n",
      "\n",
      "1025:Upgrade\n",
      "\n",
      "765:Us\n",
      "\n",
      "1093:Venom\n",
      "\n",
      "580:Won't You Be My Neighbor?\n",
      "\n",
      "1035:Iron Man 2;Spider-Man: No Way Home\n",
      "\n",
      "715:BlacKkKlansman;Iron Man\n",
      "\n",
      "547:Iron Man;Shazam!\n",
      "\n",
      "781:Spider-Man: Into the Spider-Verse;Isle of Dogs\n",
      "\n",
      "609:Iron Man;A Star Is Born\n",
      "\n",
      "591:Annihilation;Mission: Impossible - Fallout\n",
      "\n",
      "686:Inception;Bohemian Rhapsody\n",
      "\n",
      "530:Incredibles 2;Venom\n",
      "\n",
      "598:Game Night;Guardians of the Galaxy\n",
      "\n",
      "532:Game Night;Spider-Man: Into the Spider-Verse\n",
      "\n",
      "500:Venom;Mission: Impossible - Fallout\n",
      "\n",
      "625:Annihilation;Isle of Dogs\n",
      "\n",
      "499:Guardians of the Galaxy;Isle of Dogs\n",
      "\n",
      "780:Iron Man 2;Mission: Impossible - Fallout\n",
      "\n",
      "495:Inception;Us\n",
      "\n",
      "1675:Guardians of the Galaxy;Iron Man\n",
      "\n",
      "1235:Incredibles 2;Spider-Man: Into the Spider-Verse\n",
      "\n",
      "793:Solo: A Star Wars Story;Guardians of the Galaxy\n",
      "\n",
      "1437:Iron Man;Inception\n",
      "\n",
      "739:Incredibles 2;Solo: A Star Wars Story\n",
      "\n",
      "1247:Inception;Deadpool 2\n",
      "\n",
      "926:Iron Man;Green Book\n",
      "\n",
      "519:Incredibles 2;Spider-Man: No Way Home\n",
      "\n",
      "528:Deadpool 2;Ocean's 8\n",
      "\n",
      "2116:Iron Man 2;Iron Man\n",
      "\n",
      "710:Isle of Dogs;Inception\n",
      "\n",
      "498:Incredibles 2;Aquaman\n",
      "\n",
      "1038:Deadpool 2;Bohemian Rhapsody\n",
      "\n",
      "508:Iron Man 2;BlacKkKlansman\n",
      "\n",
      "875:Green Book;Bohemian Rhapsody\n",
      "\n",
      "964:Solo: A Star Wars Story;Deadpool 2\n",
      "\n",
      "1201:Annihilation;Iron Man\n",
      "\n",
      "3245:Iron Man;Deadpool 2\n",
      "\n",
      "908:Iron Man;Venom\n",
      "\n",
      "496:Isle of Dogs;Green Book\n",
      "\n",
      "819:Iron Man;Aquaman\n",
      "\n",
      "975:Isle of Dogs;Deadpool 2\n",
      "\n",
      "903:Game Night;Iron Man\n",
      "\n",
      "746:Green Book;Deadpool 2\n",
      "\n",
      "547:Incredibles 2;Green Book\n",
      "\n",
      "1747:Incredibles 2;Deadpool 2\n",
      "\n",
      "618:Jurassic World: Fallen Kingdom;Deadpool 2\n",
      "\n",
      "1226:Iron Man;Bohemian Rhapsody\n",
      "\n",
      "492:Iron Man;Alita: Battle Angel\n",
      "\n",
      "672:Upgrade;Deadpool 2\n",
      "\n",
      "731:Iron Man;Hereditary\n",
      "\n",
      "799:Guardians of the Galaxy;Mission: Impossible - Fallout\n",
      "\n",
      "872:Spider-Man: Into the Spider-Verse;Spider-Man: No Way Home\n",
      "\n",
      "526:BlacKkKlansman;Isle of Dogs\n",
      "\n",
      "652:Inception;Mission: Impossible - Fallout\n",
      "\n",
      "559:Annihilation;Bohemian Rhapsody\n",
      "\n",
      "493:Venom;Aquaman\n",
      "\n",
      "739:Iron Man 2;Solo: A Star Wars Story\n",
      "\n",
      "1726:Iron Man 2;Spider-Man: Into the Spider-Verse\n",
      "\n",
      "707:Deadpool 2;Aquaman\n",
      "\n",
      "758:Incredibles 2;Bohemian Rhapsody\n",
      "\n",
      "634:A Star Is Born;Bohemian Rhapsody\n",
      "\n",
      "575:Iron Man;Tomb Raider\n",
      "\n",
      "1472:Iron Man 2;Deadpool 2\n",
      "\n",
      "2102:Incredibles 2;Iron Man\n",
      "\n",
      "714:Solo: A Star Wars Story;Spider-Man: Into the Spider-Verse\n",
      "\n",
      "727:Iron Man 2;Annihilation\n",
      "\n",
      "827:Guardians of the Galaxy;Captain Marvel\n",
      "\n",
      "859:Captain Marvel;Deadpool 2\n",
      "\n",
      "839:Inception;Hereditary\n",
      "\n",
      "845:Spider-Man: Into the Spider-Verse;Green Book\n",
      "\n",
      "583:Annihilation;Upgrade\n",
      "\n",
      "501:Iron Man;Black Mirror: Bandersnatch\n",
      "\n",
      "490:Shazam!;Deadpool 2\n",
      "\n",
      "653:Incredibles 2;Annihilation\n",
      "\n",
      "561:Fantastic Beasts and Where to Find Them 2;Deadpool 2\n",
      "\n",
      "628:Solo: A Star Wars Story;Inception\n",
      "\n",
      "637:Incredibles 2;Captain Marvel\n",
      "\n",
      "564:BlacKkKlansman;Bohemian Rhapsody\n",
      "\n",
      "804:Iron Man 2;Inception\n",
      "\n",
      "534:Iron Man;Searching\n",
      "\n",
      "829:Spider-Man: Into the Spider-Verse;Captain Marvel\n",
      "\n",
      "605:Iron Man;Ocean's 8\n",
      "\n",
      "1227:Iron Man;Mission: Impossible - Fallout\n",
      "\n",
      "595:Guardians of the Galaxy;Bohemian Rhapsody\n",
      "\n",
      "629:Deadpool 2;Hereditary\n",
      "\n",
      "585:Spider-Man: Into the Spider-Verse;Aquaman\n",
      "\n",
      "518:Mission: Impossible - Fallout;Bohemian Rhapsody\n",
      "\n",
      "605:Solo: A Star Wars Story;Annihilation\n",
      "\n",
      "522:Inception;Bird Box\n",
      "\n",
      "505:Iron Man 2;Once Upon a Time in Hollywood\n",
      "\n",
      "1083:Iron Man 2;Guardians of the Galaxy\n",
      "\n",
      "632:Guardians of the Galaxy;Aquaman\n",
      "\n",
      "528:Annihilation;BlacKkKlansman\n",
      "\n",
      "663:Guardians of the Galaxy;Venom\n",
      "\n",
      "538:Iron Man;The Ballad of Buster Scruggs\n",
      "\n",
      "724:Spider-Man: No Way Home;Deadpool 2\n",
      "\n",
      "574:Iron Man 2;John Wick: Chapter 3 – Parabellum\n",
      "\n",
      "601:Spider-Man: No Way Home;Guardians of the Galaxy\n",
      "\n",
      "611:Game Night;Annihilation\n",
      "\n",
      "1352:Guardians of the Galaxy;Deadpool 2\n",
      "\n",
      "535:Iron Man 2;Shazam!\n",
      "\n",
      "2080:Spider-Man: Into the Spider-Verse;Iron Man\n",
      "\n",
      "1017:Incredibles 2;Iron Man 2\n",
      "\n",
      "1019:Deadpool 2;Mission: Impossible - Fallout\n",
      "\n",
      "509:Captain Marvel;Venom\n",
      "\n",
      "537:Solo: A Star Wars Story;Bohemian Rhapsody\n",
      "\n",
      "997:Annihilation;Deadpool 2\n",
      "\n",
      "517:Game Night;Mission: Impossible - Fallout\n",
      "\n",
      "667:Game Night;Inception\n",
      "\n",
      "523:Tomb Raider;Deadpool 2\n",
      "\n",
      "726:Iron Man;Jurassic World: Fallen Kingdom\n",
      "\n",
      "575:BlacKkKlansman;Inception\n",
      "\n",
      "1183:Solo: A Star Wars Story;Iron Man\n",
      "\n",
      "534:Deadpool 2;A Star Is Born\n",
      "\n",
      "517:BlacKkKlansman;Green Book\n",
      "\n",
      "1200:Iron Man;Isle of Dogs\n",
      "\n",
      "547:Inception;Green Book\n",
      "\n",
      "660:Fantastic Beasts and Where to Find Them 2;Iron Man\n",
      "\n",
      "541:Captain Marvel;Aquaman\n",
      "\n",
      "716:Annihilation;Hereditary\n",
      "\n",
      "1057:Iron Man 2;Captain Marvel\n",
      "\n",
      "614:Upgrade;Inception\n",
      "\n",
      "828:Game Night;Deadpool 2\n",
      "\n",
      "875:Incredibles 2;Inception\n",
      "\n",
      "546:Solo: A Star Wars Story;Captain Marvel\n",
      "\n",
      "654:Iron Man 2;Venom\n",
      "\n",
      "1149:Iron Man;Captain Marvel\n",
      "\n",
      "662:Iron Man 2;Aquaman\n",
      "\n",
      "537:Incredibles 2;BlacKkKlansman\n",
      "\n",
      "905:Spider-Man: Into the Spider-Verse;Inception\n",
      "\n",
      "971:Incredibles 2;Guardians of the Galaxy\n",
      "\n",
      "726:Iron Man;Upgrade\n",
      "\n",
      "752:Spider-Man: Into the Spider-Verse;Mission: Impossible - Fallout\n",
      "\n",
      "502:Fantastic Beasts and Where to Find Them 2;Iron Man 2\n",
      "\n",
      "552:Iron Man;John Wick: Chapter 3 – Parabellum\n",
      "\n",
      "584:Game Night;Incredibles 2\n",
      "\n",
      "578:Spider-Man: Into the Spider-Verse;BlacKkKlansman\n",
      "\n",
      "810:Deadpool 2;Venom\n",
      "\n",
      "502:Deadpool 2;John Wick: Chapter 3 – Parabellum\n",
      "\n",
      "831:Incredibles 2;Isle of Dogs\n",
      "\n",
      "542:Iron Man;Bird Box\n",
      "\n",
      "777:Incredibles 2;Mission: Impossible - Fallout\n",
      "\n",
      "986:Spider-Man: Into the Spider-Verse;Guardians of the Galaxy\n",
      "\n",
      "772:Spider-Man: Into the Spider-Verse;Annihilation\n",
      "\n",
      "1525:Spider-Man: Into the Spider-Verse;Deadpool 2\n",
      "\n",
      "713:Guardians of the Galaxy;Inception\n",
      "\n",
      "794:Iron Man 2;Green Book\n",
      "\n",
      "508:Guardians of the Galaxy;Jurassic World: Fallen Kingdom\n",
      "\n",
      "828:Iron Man 2;Bohemian Rhapsody\n",
      "\n",
      "560:Iron Man 2;Isle of Dogs\n",
      "\n",
      "620:Spider-Man: Into the Spider-Verse;Venom\n",
      "\n",
      "504:Inception;Captain Marvel\n",
      "\n",
      "555:Game Night;Iron Man 2\n",
      "\n",
      "1043:Annihilation;Inception\n",
      "\n",
      "506:Captain Marvel;Bohemian Rhapsody\n",
      "\n",
      "618:Isle of Dogs;Bohemian Rhapsody\n",
      "\n",
      "622:Solo: A Star Wars Story;Mission: Impossible - Fallout\n",
      "\n",
      "595:Spider-Man: No Way Home;Captain Marvel\n",
      "\n",
      "920:Spider-Man: Into the Spider-Verse;Bohemian Rhapsody\n",
      "\n",
      "566:Spider-Man: Into the Spider-Verse;Hereditary\n",
      "\n",
      "659:BlacKkKlansman;Deadpool 2\n",
      "\n",
      "914:Spider-Man: No Way Home;Iron Man\n",
      "\n",
      "640:Annihilation;Guardians of the Galaxy\n",
      "\n",
      "511:Captain Marvel;Mission: Impossible - Fallout\n",
      "\n",
      "997:Iron Man 2;Iron Man;Captain Marvel\n",
      "\n",
      "831:Iron Man;Deadpool 2;Captain Marvel\n",
      "\n",
      "1533:Incredibles 2;Iron Man;Deadpool 2\n",
      "\n",
      "628:Incredibles 2;Guardians of the Galaxy;Spider-Man: Into the Spider-Verse\n",
      "\n",
      "667:Incredibles 2;Solo: A Star Wars Story;Iron Man\n",
      "\n",
      "521:Iron Man 2;Iron Man;Game Night\n",
      "\n",
      "513:Iron Man;Green Book;Bohemian Rhapsody\n",
      "\n",
      "595:Guardians of the Galaxy;Inception;Deadpool 2\n",
      "\n",
      "546:Annihilation;Inception;Hereditary\n",
      "\n",
      "496:Iron Man 2;Guardians of the Galaxy;Aquaman\n",
      "\n",
      "490:Iron Man;Captain Marvel;Mission: Impossible - Fallout\n",
      "\n",
      "493:Iron Man 2;Spider-Man: No Way Home;Incredibles 2\n",
      "\n",
      "606:Iron Man;Green Book;Deadpool 2\n",
      "\n",
      "723:Iron Man 2;Captain Marvel;Spider-Man: Into the Spider-Verse\n",
      "\n",
      "614:Incredibles 2;Iron Man;Captain Marvel\n",
      "\n",
      "545:Spider-Man: Into the Spider-Verse;Iron Man;Aquaman\n",
      "\n",
      "583:Iron Man 2;Bohemian Rhapsody;Spider-Man: Into the Spider-Verse\n",
      "\n",
      "505:Spider-Man: Into the Spider-Verse;Deadpool 2;Venom\n",
      "\n",
      "561:Solo: A Star Wars Story;Deadpool 2;Iron Man 2\n",
      "\n",
      "1367:Iron Man 2;Iron Man;Deadpool 2\n",
      "\n",
      "526:Incredibles 2;Inception;Spider-Man: Into the Spider-Verse\n",
      "\n",
      "500:Incredibles 2;Iron Man;Venom\n",
      "\n",
      "666:Incredibles 2;Iron Man;Isle of Dogs\n",
      "\n",
      "525:Solo: A Star Wars Story;Guardians of the Galaxy;Iron Man 2\n",
      "\n",
      "736:Iron Man 2;Iron Man;Mission: Impossible - Fallout\n",
      "\n",
      "764:Incredibles 2;Deadpool 2;Iron Man 2\n",
      "\n",
      "757:Iron Man 2;Guardians of the Galaxy;Spider-Man: Into the Spider-Verse\n",
      "\n",
      "498:Iron Man 2;Iron Man;Shazam!\n",
      "\n",
      "618:Spider-Man: Into the Spider-Verse;Captain Marvel;Deadpool 2\n",
      "\n",
      "861:Incredibles 2;Deadpool 2;Spider-Man: Into the Spider-Verse\n",
      "\n",
      "498:Game Night;Iron Man;Inception\n",
      "\n",
      "1344:Spider-Man: Into the Spider-Verse;Iron Man;Deadpool 2\n",
      "\n",
      "599:Spider-Man: Into the Spider-Verse;Guardians of the Galaxy;Captain Marvel\n",
      "\n",
      "542:Guardians of the Galaxy;Deadpool 2;Aquaman\n",
      "\n",
      "515:Iron Man;Captain Marvel;Aquaman\n",
      "\n",
      "527:Solo: A Star Wars Story;Iron Man;Captain Marvel\n",
      "\n",
      "846:Iron Man 2;Guardians of the Galaxy;Deadpool 2\n",
      "\n",
      "535:Iron Man;Inception;Hereditary\n",
      "\n",
      "574:Guardians of the Galaxy;Deadpool 2;Venom\n",
      "\n",
      "729:Iron Man 2;Iron Man;Inception\n",
      "\n",
      "765:Spider-Man: Into the Spider-Verse;Guardians of the Galaxy;Deadpool 2\n",
      "\n",
      "614:Incredibles 2;Deadpool 2;Mission: Impossible - Fallout\n",
      "\n",
      "558:Spider-Man: Into the Spider-Verse;Iron Man;Venom\n",
      "\n",
      "621:Incredibles 2;Iron Man;Bohemian Rhapsody\n",
      "\n",
      "539:Iron Man 2;Deadpool 2;Venom\n",
      "\n",
      "637:Guardians of the Galaxy;Iron Man;Venom\n",
      "\n",
      "661:Iron Man 2;Iron Man;Annihilation\n",
      "\n",
      "501:Incredibles 2;Guardians of the Galaxy;Mission: Impossible - Fallout\n",
      "\n",
      "559:Iron Man 2;Deadpool 2;Bohemian Rhapsody\n",
      "\n",
      "744:Iron Man 2;Guardians of the Galaxy;Captain Marvel\n",
      "\n",
      "493:Fantastic Beasts and Where to Find Them 2;Iron Man;Deadpool 2\n",
      "\n",
      "578:Incredibles 2;Isle of Dogs;Deadpool 2\n",
      "\n",
      "542:Iron Man 2;Deadpool 2;Aquaman\n",
      "\n",
      "1076:Iron Man;Inception;Deadpool 2\n",
      "\n",
      "754:Iron Man 2;Deadpool 2;Captain Marvel\n",
      "\n",
      "507:Isle of Dogs;Iron Man;Inception\n",
      "\n",
      "527:Solo: A Star Wars Story;Annihilation;Iron Man\n",
      "\n",
      "582:Iron Man 2;Inception;Spider-Man: Into the Spider-Verse\n",
      "\n",
      "504:Iron Man 2;Iron Man;John Wick: Chapter 3 – Parabellum\n",
      "\n",
      "629:Iron Man 2;Iron Man;Aquaman\n",
      "\n",
      "543:Iron Man 2;Green Book;Spider-Man: Into the Spider-Verse\n",
      "\n",
      "1289:Guardians of the Galaxy;Deadpool 2;Iron Man\n",
      "\n",
      "533:Guardians of the Galaxy;Deadpool 2;Annihilation\n",
      "\n",
      "566:Iron Man;Jurassic World: Fallen Kingdom;Deadpool 2\n",
      "\n",
      "633:Spider-Man: Into the Spider-Verse;Annihilation;Iron Man\n",
      "\n",
      "584:Iron Man;Upgrade;Deadpool 2\n",
      "\n",
      "776:Spider-Man: Into the Spider-Verse;Iron Man;Captain Marvel\n",
      "\n",
      "569:Incredibles 2;Solo: A Star Wars Story;Deadpool 2\n",
      "\n",
      "1039:Iron Man 2;Guardians of the Galaxy;Iron Man\n",
      "\n",
      "603:Spider-Man: Into the Spider-Verse;Deadpool 2;Bohemian Rhapsody\n",
      "\n",
      "671:Iron Man;Deadpool 2;Aquaman\n",
      "\n",
      "565:Solo: A Star Wars Story;Iron Man;Mission: Impossible - Fallout\n",
      "\n",
      "506:Inception;Deadpool 2;Mission: Impossible - Fallout\n",
      "\n",
      "545:BlacKkKlansman;Deadpool 2;Iron Man\n",
      "\n",
      "748:Spider-Man: Into the Spider-Verse;Iron Man;Inception\n",
      "\n",
      "682:Spider-Man: Into the Spider-Verse;Iron Man;Mission: Impossible - Fallout\n",
      "\n",
      "518:Game Night;Guardians of the Galaxy;Deadpool 2\n",
      "\n",
      "651:Guardians of the Galaxy;Deadpool 2;Mission: Impossible - Fallout\n",
      "\n",
      "523:Iron Man 2;Annihilation;Deadpool 2\n",
      "\n",
      "867:Iron Man;Deadpool 2;Bohemian Rhapsody\n",
      "\n",
      "746:Incredibles 2;Iron Man;Inception\n",
      "\n",
      "674:Spider-Man: No Way Home;Iron Man;Deadpool 2\n",
      "\n",
      "512:Annihilation;Iron Man;Mission: Impossible - Fallout\n",
      "\n",
      "495:Spider-Man: No Way Home;Guardians of the Galaxy;Deadpool 2\n",
      "\n",
      "710:Iron Man 2;Iron Man;Solo: A Star Wars Story\n",
      "\n",
      "502:Solo: A Star Wars Story;Guardians of the Galaxy;Incredibles 2\n",
      "\n",
      "576:Spider-Man: Into the Spider-Verse;Spider-Man: No Way Home;Deadpool 2\n",
      "\n",
      "499:Incredibles 2;Annihilation;Deadpool 2\n",
      "\n",
      "600:Iron Man 2;Inception;Deadpool 2\n",
      "\n",
      "549:Solo: A Star Wars Story;Iron Man;Inception\n",
      "\n",
      "934:Spider-Man: Into the Spider-Verse;Guardians of the Galaxy;Iron Man\n",
      "\n",
      "722:Spider-Man: Into the Spider-Verse;Iron Man;Spider-Man: No Way Home\n",
      "\n",
      "632:Spider-Man: Into the Spider-Verse;Inception;Deadpool 2\n",
      "\n",
      "533:Solo: A Star Wars Story;Deadpool 2;Spider-Man: Into the Spider-Verse\n",
      "\n",
      "1048:Incredibles 2;Iron Man;Spider-Man: Into the Spider-Verse\n",
      "\n",
      "759:Guardians of the Galaxy;Iron Man;Mission: Impossible - Fallout\n",
      "\n",
      "819:Iron Man 2;Spider-Man: No Way Home;Spider-Man: Into the Spider-Verse\n",
      "\n",
      "881:Solo: A Star Wars Story;Iron Man;Deadpool 2\n",
      "\n",
      "927:Incredibles 2;Guardians of the Galaxy;Iron Man\n",
      "\n",
      "525:Spider-Man: Into the Spider-Verse;Annihilation;Deadpool 2\n",
      "\n",
      "634:Annihilation;Inception;Deadpool 2\n",
      "\n",
      "550:Incredibles 2;Captain Marvel;Iron Man 2\n",
      "\n",
      "600:Iron Man 2;Deadpool 2;Mission: Impossible - Fallout\n",
      "\n",
      "606:Iron Man 2;Guardians of the Galaxy;Incredibles 2\n",
      "\n",
      "577:Spider-Man: No Way Home;Guardians of the Galaxy;Iron Man\n",
      "\n",
      "954:Iron Man 2;Iron Man;Incredibles 2\n",
      "\n",
      "570:Incredibles 2;Annihilation;Iron Man\n",
      "\n",
      "590:Iron Man 2;Iron Man;Green Book\n",
      "\n",
      "712:Iron Man;Inception;Annihilation\n",
      "\n",
      "495:Incredibles 2;Deadpool 2;Captain Marvel\n",
      "\n",
      "943:Iron Man;Deadpool 2;Mission: Impossible - Fallout\n",
      "\n",
      "1002:Iron Man 2;Deadpool 2;Spider-Man: Into the Spider-Verse\n",
      "\n",
      "697:Incredibles 2;Iron Man;Mission: Impossible - Fallout\n",
      "\n",
      "561:Iron Man;Inception;Mission: Impossible - Fallout\n",
      "\n",
      "528:Iron Man 2;Guardians of the Galaxy;Mission: Impossible - Fallout\n",
      "\n",
      "761:Incredibles 2;Iron Man 2;Spider-Man: Into the Spider-Verse\n",
      "\n",
      "569:Incredibles 2;Deadpool 2;Bohemian Rhapsody\n",
      "\n",
      "732:Spider-Man: Into the Spider-Verse;Iron Man;Bohemian Rhapsody\n",
      "\n",
      "603:Spider-Man: Into the Spider-Verse;Iron Man;Isle of Dogs\n",
      "\n",
      "593:Spider-Man: Into the Spider-Verse;Iron Man;Green Book\n",
      "\n",
      "582:Spider-Man: Into the Spider-Verse;Deadpool 2;Mission: Impossible - Fallout\n",
      "\n",
      "774:Incredibles 2;Guardians of the Galaxy;Deadpool 2\n",
      "\n",
      "687:Iron Man 2;Spider-Man: No Way Home;Deadpool 2\n",
      "\n",
      "503:Incredibles 2;Captain Marvel;Spider-Man: Into the Spider-Verse\n",
      "\n",
      "645:Guardians of the Galaxy;Captain Marvel;Deadpool 2\n",
      "\n",
      "768:Solo: A Star Wars Story;Guardians of the Galaxy;Iron Man\n",
      "\n",
      "695:Iron Man 2;Iron Man;Bohemian Rhapsody\n",
      "\n",
      "501:Iron Man 2;Iron Man;Isle of Dogs\n",
      "\n",
      "668:Incredibles 2;Inception;Deadpool 2\n",
      "\n",
      "491:Incredibles 2;Iron Man;Spider-Man: No Way Home\n",
      "\n",
      "1349:Iron Man 2;Iron Man;Spider-Man: Into the Spider-Verse\n",
      "\n",
      "578:Iron Man 2;Guardians of the Galaxy;Spider-Man: No Way Home\n",
      "\n",
      "571:Spider-Man: No Way Home;Iron Man;Captain Marvel\n",
      "\n",
      "653:Solo: A Star Wars Story;Iron Man;Spider-Man: Into the Spider-Verse\n",
      "\n",
      "800:Guardians of the Galaxy;Captain Marvel;Iron Man\n",
      "\n",
      "608:Annihilation;Guardians of the Galaxy;Iron Man\n",
      "\n",
      "512:Iron Man 2;Solo: A Star Wars Story;Spider-Man: Into the Spider-Verse\n",
      "\n",
      "513:Iron Man;Inception;Bohemian Rhapsody\n",
      "\n",
      "552:Guardians of the Galaxy;Iron Man;Bohemian Rhapsody\n",
      "\n",
      "642:Solo: A Star Wars Story;Guardians of the Galaxy;Deadpool 2\n",
      "\n",
      "541:Iron Man 2;Mission: Impossible - Fallout;Spider-Man: Into the Spider-Verse\n",
      "\n",
      "716:Game Night;Iron Man;Deadpool 2\n",
      "\n",
      "501:Iron Man 2;Annihilation;Spider-Man: Into the Spider-Verse\n",
      "\n",
      "509:Spider-Man: Into the Spider-Verse;Annihilation;Inception\n",
      "\n",
      "611:Guardians of the Galaxy;Iron Man;Aquaman\n",
      "\n",
      "512:Game Night;Iron Man;Incredibles 2\n",
      "\n",
      "879:Iron Man 2;Iron Man;Spider-Man: No Way Home\n",
      "\n",
      "745:Iron Man;Deadpool 2;Venom\n",
      "\n",
      "581:Iron Man 2;Spider-Man: No Way Home;Captain Marvel\n",
      "\n",
      "847:Annihilation;Deadpool 2;Iron Man\n",
      "\n",
      "537:Iron Man;Deadpool 2;Hereditary\n",
      "\n",
      "614:Iron Man 2;Iron Man;Venom\n",
      "\n",
      "499:Solo: A Star Wars Story;Guardians of the Galaxy;Spider-Man: Into the Spider-Verse\n",
      "\n",
      "493:Solo: A Star Wars Story;Inception;Deadpool 2\n",
      "\n",
      "558:Game Night;Guardians of the Galaxy;Iron Man\n",
      "\n",
      "815:Iron Man;Isle of Dogs;Deadpool 2\n",
      "\n",
      "681:Guardians of the Galaxy;Inception;Iron Man\n",
      "\n",
      "490:Solo: A Star Wars Story;Guardians of the Galaxy;Iron Man;Spider-Man: Into the Spider-Verse\n",
      "\n",
      "719:Iron Man;Iron Man 2;Spider-Man: Into the Spider-Verse;Incredibles 2\n",
      "\n",
      "519:Iron Man;Guardians of the Galaxy;Mission: Impossible - Fallout;Iron Man 2\n",
      "\n",
      "521:Iron Man;Deadpool 2;Incredibles 2;Bohemian Rhapsody\n",
      "\n",
      "729:Guardians of the Galaxy;Iron Man;Spider-Man: Into the Spider-Verse;Iron Man 2\n",
      "\n",
      "555:Captain Marvel;Deadpool 2;Spider-Man: Into the Spider-Verse;Iron Man 2\n",
      "\n",
      "587:Iron Man;Deadpool 2;Mission: Impossible - Fallout;Iron Man 2\n",
      "\n",
      "579:Iron Man;Deadpool 2;Iron Man 2;Inception\n",
      "\n",
      "525:Iron Man;Isle of Dogs;Deadpool 2;Incredibles 2\n",
      "\n",
      "536:Iron Man;Spider-Man: Into the Spider-Verse;Iron Man 2;Inception\n",
      "\n",
      "588:Iron Man;Deadpool 2;Spider-Man: Into the Spider-Verse;Inception\n",
      "\n",
      "533:Guardians of the Galaxy;Iron Man;Deadpool 2;Aquaman\n",
      "\n",
      "627:Iron Man;Deadpool 2;Incredibles 2;Inception\n",
      "\n",
      "938:Iron Man;Deadpool 2;Spider-Man: Into the Spider-Verse;Iron Man 2\n",
      "\n",
      "580:Deadpool 2;Iron Man 2;Spider-Man: Into the Spider-Verse;Incredibles 2\n",
      "\n",
      "545:Solo: A Star Wars Story;Iron Man;Deadpool 2;Incredibles 2\n",
      "\n",
      "559:Solo: A Star Wars Story;Iron Man;Deadpool 2;Iron Man 2\n",
      "\n",
      "808:Iron Man;Deadpool 2;Spider-Man: Into the Spider-Verse;Incredibles 2\n",
      "\n",
      "537:Iron Man;Deadpool 2;Iron Man 2;Bohemian Rhapsody\n",
      "\n",
      "499:Solo: A Star Wars Story;Iron Man;Spider-Man: Into the Spider-Verse;Iron Man 2\n",
      "\n",
      "519:Guardians of the Galaxy;Iron Man;Deadpool 2;Annihilation\n",
      "\n",
      "541:Incredibles 2;Iron Man;Captain Marvel;Iron Man 2\n",
      "\n",
      "657:Spider-Man: No Way Home;Iron Man;Deadpool 2;Iron Man 2\n",
      "\n",
      "613:Guardians of the Galaxy;Iron Man;Spider-Man: Into the Spider-Verse;Incredibles 2\n",
      "\n",
      "531:Iron Man;Deadpool 2;Iron Man 2;Aquaman\n",
      "\n",
      "740:Iron Man;Captain Marvel;Deadpool 2;Iron Man 2\n",
      "\n",
      "497:Guardians of the Galaxy;Deadpool 2;Iron Man 2;Incredibles 2\n",
      "\n",
      "600:Incredibles 2;Guardians of the Galaxy;Iron Man;Iron Man 2\n",
      "\n",
      "599:Guardians of the Galaxy;Deadpool 2;Spider-Man: Into the Spider-Verse;Iron Man 2\n",
      "\n",
      "583:Guardians of the Galaxy;Iron Man;Deadpool 2;Inception\n",
      "\n",
      "639:Guardians of the Galaxy;Iron Man;Deadpool 2;Mission: Impossible - Fallout\n",
      "\n",
      "584:Guardians of the Galaxy;Iron Man;Captain Marvel;Spider-Man: Into the Spider-Verse\n",
      "\n",
      "521:Solo: A Star Wars Story;Guardians of the Galaxy;Iron Man;Iron Man 2\n",
      "\n",
      "564:Spider-Man: No Way Home;Guardians of the Galaxy;Iron Man;Iron Man 2\n",
      "\n",
      "742:Iron Man;Deadpool 2;Iron Man 2;Incredibles 2\n",
      "\n",
      "588:Guardians of the Galaxy;Deadpool 2;Captain Marvel;Iron Man 2\n",
      "\n",
      "518:Solo: A Star Wars Story;Iron Man;Deadpool 2;Spider-Man: Into the Spider-Verse\n",
      "\n",
      "758:Iron Man;Guardians of the Galaxy;Deadpool 2;Incredibles 2\n",
      "\n",
      "559:Iron Man;Deadpool 2;Mission: Impossible - Fallout;Spider-Man: Into the Spider-Verse\n",
      "\n",
      "560:Guardians of the Galaxy;Iron Man;Deadpool 2;Venom\n",
      "\n",
      "561:Iron Man;Deadpool 2;Spider-Man: Into the Spider-Verse;Bohemian Rhapsody\n",
      "\n",
      "696:Iron Man;Captain Marvel;Spider-Man: Into the Spider-Verse;Iron Man 2\n",
      "\n",
      "519:Iron Man;Mission: Impossible - Fallout;Spider-Man: Into the Spider-Verse;Iron Man 2\n",
      "\n",
      "828:Iron Man;Guardians of the Galaxy;Deadpool 2;Iron Man 2\n",
      "\n",
      "541:Guardians of the Galaxy;Captain Marvel;Spider-Man: Into the Spider-Verse;Iron Man 2\n",
      "\n",
      "554:Spider-Man: No Way Home;Deadpool 2;Iron Man 2;Spider-Man: Into the Spider-Verse\n",
      "\n",
      "584:Iron Man;Deadpool 2;Mission: Impossible - Fallout;Incredibles 2\n",
      "\n",
      "747:Iron Man;Guardians of the Galaxy;Deadpool 2;Spider-Man: Into the Spider-Verse\n",
      "\n",
      "492:Guardians of the Galaxy;Iron Man;Deadpool 2;Game Night\n",
      "\n",
      "508:Iron Man;Spider-Man: Into the Spider-Verse;Iron Man 2;Bohemian Rhapsody\n",
      "\n",
      "507:Iron Man;Deadpool 2;Iron Man 2;Annihilation\n",
      "\n",
      "557:Iron Man;Deadpool 2;Annihilation;Inception\n",
      "\n",
      "730:Iron Man;Guardians of the Galaxy;Captain Marvel;Iron Man 2\n",
      "\n",
      "632:Solo: A Star Wars Story;Guardians of the Galaxy;Iron Man;Deadpool 2\n",
      "\n",
      "601:Iron Man;Deadpool 2;Captain Marvel;Spider-Man: Into the Spider-Verse\n",
      "\n",
      "491:Solo: A Star Wars Story;Iron Man;Guardians of the Galaxy;Incredibles 2\n",
      "\n",
      "512:Guardians of the Galaxy;Deadpool 2;Spider-Man: Into the Spider-Verse;Incredibles 2\n",
      "\n",
      "542:Spider-Man: No Way Home;Iron Man;Deadpool 2;Spider-Man: Into the Spider-Verse\n",
      "\n",
      "704:Spider-Man: No Way Home;Iron Man;Iron Man 2;Spider-Man: Into the Spider-Verse\n",
      "\n",
      "564:Spider-Man: No Way Home;Iron Man;Captain Marvel;Iron Man 2\n",
      "\n",
      "523:Iron Man;Deadpool 2;Iron Man 2;Venom\n",
      "\n",
      "636:Iron Man;Guardians of the Galaxy;Deadpool 2;Captain Marvel\n",
      "\n",
      "566:Iron Man;Iron Man 2;Deadpool 2;Spider-Man: Into the Spider-Verse;Incredibles 2\n",
      "\n",
      "547:Iron Man;Captain Marvel;Iron Man 2;Deadpool 2;Spider-Man: Into the Spider-Verse\n",
      "\n",
      "583:Iron Man;Guardians of the Galaxy;Captain Marvel;Iron Man 2;Deadpool 2\n",
      "\n",
      "534:Guardians of the Galaxy;Iron Man;Captain Marvel;Iron Man 2;Spider-Man: Into the Spider-Verse\n",
      "\n",
      "509:Incredibles 2;Iron Man;Guardians of the Galaxy;Deadpool 2;Spider-Man: Into the Spider-Verse\n",
      "\n",
      "496:Guardians of the Galaxy;Iron Man;Iron Man 2;Deadpool 2;Incredibles 2\n",
      "\n",
      "589:Guardians of the Galaxy;Iron Man;Iron Man 2;Deadpool 2;Spider-Man: Into the Spider-Verse\n",
      "\n",
      "531:Spider-Man: No Way Home;Iron Man;Iron Man 2;Deadpool 2;Spider-Man: Into the Spider-Verse\n",
      "\n"
     ]
    }
   ],
   "source": [
    "for grp in l_all:\n",
    "    print(str(l_all[grp])+\":\", end=\"\")\n",
    "    for movie in list(grp):\n",
    "        print(str(movie), end=\"\")\n",
    "        if movie != list(grp)[-1]:\n",
    "            print(\";\", end=\"\")\n",
    "    print(\"\\n\")"
   ]
  },
  {
   "cell_type": "code",
   "execution_count": 17,
   "metadata": {
    "colab": {
     "base_uri": "https://localhost:8080/"
    },
    "executionInfo": {
     "elapsed": 10,
     "status": "ok",
     "timestamp": 1673640008834,
     "user": {
      "displayName": "Roham J",
      "userId": "05484521296017075099"
     },
     "user_tz": -60
    },
    "id": "tvGHaxogEklk",
    "outputId": "45cd5d7e-5ab1-459f-a01c-21fc58ee30fa"
   },
   "outputs": [
    {
     "data": {
      "text/plain": [
       "436"
      ]
     },
     "execution_count": 17,
     "metadata": {},
     "output_type": "execute_result"
    }
   ],
   "source": [
    "len(l_all)"
   ]
  },
  {
   "cell_type": "code",
   "execution_count": 18,
   "metadata": {
    "id": "ipgyUVTvF2Dp"
   },
   "outputs": [],
   "source": [
    "with open(address + 'patterns.txt', 'w') as f:\n",
    "    for grp in l_all:\n",
    "        f.write(str(l_all[grp])+\":\")\n",
    "        for movie in list(grp):\n",
    "            f.write(str(movie))\n",
    "            if movie != list(grp)[-1]:\n",
    "                f.write(\";\")\n",
    "        f.write(\"\\n\")\n",
    "    "
   ]
  },
  {
   "cell_type": "markdown",
   "metadata": {
    "id": "uKZDSr3JQ1z3"
   },
   "source": [
    "### PART (c):"
   ]
  },
  {
   "cell_type": "markdown",
   "metadata": {
    "id": "f_rUm_jrQ57A"
   },
   "source": [
    "> For example, user likes:  \n",
    "> > \"Spider-Man: No Way Home\"  \n",
    ">\n",
    "> > \"Guardians of the Galaxy\""
   ]
  },
  {
   "cell_type": "code",
   "execution_count": 19,
   "metadata": {
    "id": "S8_pBwp75AuV"
   },
   "outputs": [],
   "source": [
    "USER_LIKES = {'Guardians of the Galaxy' , 'Spider-Man: No Way Home'}"
   ]
  },
  {
   "cell_type": "markdown",
   "metadata": {
    "id": "Lpt3zR-ARLX4"
   },
   "source": [
    "> Find the support for chosen movies."
   ]
  },
  {
   "cell_type": "code",
   "execution_count": 20,
   "metadata": {
    "id": "O8BzWbfY5TIn"
   },
   "outputs": [],
   "source": [
    "USER_LIKES_SUPP = 0\n",
    "for grp in l_all:\n",
    "    if USER_LIKES == grp:\n",
    "        USER_LIKES_SUPP = l_all[grp]\n",
    "        break"
   ]
  },
  {
   "cell_type": "code",
   "execution_count": 21,
   "metadata": {
    "colab": {
     "base_uri": "https://localhost:8080/"
    },
    "executionInfo": {
     "elapsed": 4,
     "status": "ok",
     "timestamp": 1673640009261,
     "user": {
      "displayName": "Roham J",
      "userId": "05484521296017075099"
     },
     "user_tz": -60
    },
    "id": "OrjURtbcTtKy",
    "outputId": "bdbd02d9-e598-4f8b-92d9-390ba08939e0"
   },
   "outputs": [
    {
     "name": "stdout",
     "output_type": "stream",
     "text": [
      "USER_LIKES SUPPORT:  601\n"
     ]
    }
   ],
   "source": [
    "print(\"USER_LIKES SUPPORT: \", USER_LIKES_SUPP)"
   ]
  },
  {
   "cell_type": "markdown",
   "metadata": {
    "id": "YhwcAQhARnKS"
   },
   "source": [
    "> Find all movie recommendations"
   ]
  },
  {
   "cell_type": "code",
   "execution_count": 22,
   "metadata": {
    "id": "wztVknfteKM_"
   },
   "outputs": [],
   "source": [
    "from itertools import chain, combinations\n",
    "\n",
    "def powerset(iterable):\n",
    "    s = list(iterable)\n",
    "    return chain.from_iterable(combinations(s, r) for r in range(1,len(s)+1))"
   ]
  },
  {
   "cell_type": "code",
   "execution_count": 23,
   "metadata": {
    "id": "VWkQufpkeVss"
   },
   "outputs": [],
   "source": [
    "ps = list(powerset(USER_LIKES))"
   ]
  },
  {
   "cell_type": "markdown",
   "metadata": {
    "id": "GY5o0f6YuYc-"
   },
   "source": [
    "> This algorithm finds the best confidence for all the subsets of selected movies by the user:"
   ]
  },
  {
   "cell_type": "code",
   "execution_count": 24,
   "metadata": {
    "id": "OXJ9fNJxfn6l"
   },
   "outputs": [],
   "source": [
    "recommendations = Counter()\n",
    "for item in ps:\n",
    "    itemAsSet = set(item)\n",
    "    item_supp = 0\n",
    "    for grp in l_all:\n",
    "        if itemAsSet == grp:\n",
    "            item_supp = l_all[grp]\n",
    "            break\n",
    "\n",
    "    for grp in l_all:\n",
    "        # skip the itemset that is equal to the chosen set of movies.\n",
    "        if itemAsSet != grp:\n",
    "            # check the itemset that contains the chosen set of movies.\n",
    "            # (but not equal to)\n",
    "            if itemAsSet.issubset(grp):\n",
    "                #calculate the confidence of this recommendation\n",
    "                this_conf = round(l_all[grp] / item_supp,4)\n",
    "                recom = grp - itemAsSet\n",
    "\n",
    "                recommendations[recom] = this_conf"
   ]
  },
  {
   "cell_type": "code",
   "execution_count": 25,
   "metadata": {
    "colab": {
     "base_uri": "https://localhost:8080/"
    },
    "executionInfo": {
     "elapsed": 371,
     "status": "ok",
     "timestamp": 1673640009629,
     "user": {
      "displayName": "Roham J",
      "userId": "05484521296017075099"
     },
     "user_tz": -60
    },
    "id": "-kGY3cllVGbd",
    "outputId": "050b4fdd-9eed-4f46-bfab-1c47fad04cd5",
    "scrolled": false
   },
   "outputs": [
    {
     "name": "stdout",
     "output_type": "stream",
     "text": [
      "with confidence of: 0.9617 recommend ->  ['Iron Man 2']\n",
      "with confidence of: 0.5318 recommend ->  ['Incredibles 2']\n",
      "with confidence of: 0.5400 recommend ->  ['Spider-Man: Into the Spider-Verse']\n",
      "with confidence of: 0.8236 recommend ->  ['Deadpool 2']\n",
      "with confidence of: 0.5319 recommend ->  ['Guardians of the Galaxy']\n",
      "with confidence of: 0.4529 recommend ->  ['Captain Marvel']\n",
      "with confidence of: 0.9601 recommend ->  ['Iron Man']\n",
      "with confidence of: 0.3319 recommend ->  ['Iron Man 2', 'Incredibles 2']\n",
      "with confidence of: 0.7059 recommend ->  ['Iron Man', 'Deadpool 2']\n",
      "with confidence of: 0.4381 recommend ->  ['Guardians of the Galaxy', 'Deadpool 2']\n",
      "with confidence of: 0.4189 recommend ->  ['Spider-Man: Into the Spider-Verse', 'Deadpool 2']\n",
      "with confidence of: 0.5115 recommend ->  ['Spider-Man: Into the Spider-Verse', 'Iron Man']\n",
      "with confidence of: 0.4146 recommend ->  ['Iron Man 2', 'Spider-Man: Into the Spider-Verse']\n",
      "with confidence of: 0.5106 recommend ->  ['Guardians of the Galaxy', 'Iron Man']\n",
      "with confidence of: 0.4633 recommend ->  ['Iron Man 2', 'Deadpool 2']\n",
      "with confidence of: 0.5077 recommend ->  ['Incredibles 2', 'Iron Man']\n",
      "with confidence of: 0.5115 recommend ->  ['Iron Man 2', 'Guardians of the Galaxy']\n",
      "with confidence of: 0.4381 recommend ->  ['Iron Man', 'Captain Marvel']\n",
      "with confidence of: 0.9384 recommend ->  ['Iron Man 2', 'Iron Man']\n",
      "with confidence of: 0.4074 recommend ->  ['Iron Man 2', 'Captain Marvel']\n",
      "with confidence of: 0.4535 recommend ->  ['Iron Man 2', 'Iron Man', 'Deadpool 2']\n",
      "with confidence of: 0.4991 recommend ->  ['Iron Man 2', 'Guardians of the Galaxy', 'Iron Man']\n",
      "with confidence of: 0.3280 recommend ->  ['Iron Man 2', 'Deadpool 2', 'Spider-Man: Into the Spider-Verse']\n",
      "with confidence of: 0.4091 recommend ->  ['Spider-Man: Into the Spider-Verse', 'Iron Man', 'Deadpool 2']\n",
      "with confidence of: 0.3992 recommend ->  ['Iron Man 2', 'Iron Man', 'Spider-Man: Into the Spider-Verse']\n",
      "with confidence of: 0.3998 recommend ->  ['Iron Man 2', 'Iron Man', 'Captain Marvel']\n",
      "with confidence of: 0.3226 recommend ->  ['Iron Man 2', 'Iron Man', 'Deadpool 2', 'Spider-Man: Into the Spider-Verse']\n",
      "with confidence of: 0.3275 recommend ->  ['Game Night']\n",
      "with confidence of: 0.2733 recommend ->  ['Isle of Dogs']\n",
      "with confidence of: 0.4343 recommend ->  ['Solo: A Star Wars Story']\n",
      "with confidence of: 0.4376 recommend ->  ['Mission: Impossible - Fallout']\n",
      "with confidence of: 0.3258 recommend ->  ['Bohemian Rhapsody']\n",
      "with confidence of: 0.3461 recommend ->  ['Aquaman']\n",
      "with confidence of: 0.3631 recommend ->  ['Venom']\n",
      "with confidence of: 0.3291 recommend ->  ['Spider-Man: No Way Home']\n",
      "with confidence of: 0.3905 recommend ->  ['Inception']\n",
      "with confidence of: 0.2782 recommend ->  ['Jurassic World: Fallen Kingdom']\n",
      "with confidence of: 0.3505 recommend ->  ['Annihilation']\n",
      "with confidence of: 0.3439 recommend ->  ['Incredibles 2', 'Spider-Man: Into the Spider-Verse']\n",
      "with confidence of: 0.3258 recommend ->  ['Inception', 'Deadpool 2']\n",
      "with confidence of: 0.2716 recommend ->  ['Iron Man 2', 'Aquaman']\n",
      "with confidence of: 0.2875 recommend ->  ['Solo: A Star Wars Story', 'Iron Man 2']\n",
      "with confidence of: 0.3280 recommend ->  ['Spider-Man: Into the Spider-Verse', 'Captain Marvel']\n",
      "with confidence of: 0.2968 recommend ->  ['Deadpool 2', 'Aquaman']\n",
      "with confidence of: 0.3143 recommend ->  ['Deadpool 2', 'Venom']\n",
      "with confidence of: 0.3488 recommend ->  ['Iron Man', 'Venom']\n",
      "with confidence of: 0.2744 recommend ->  ['Incredibles 2', 'Mission: Impossible - Fallout']\n",
      "with confidence of: 0.2919 recommend ->  ['Annihilation', 'Deadpool 2']\n",
      "with confidence of: 0.2837 recommend ->  ['Game Night', 'Deadpool 2']\n",
      "with confidence of: 0.3565 recommend ->  ['Deadpool 2', 'Mission: Impossible - Fallout']\n",
      "with confidence of: 0.2711 recommend ->  ['Spider-Man: No Way Home', 'Deadpool 2']\n",
      "with confidence of: 0.2749 recommend ->  ['Solo: A Star Wars Story', 'Incredibles 2']\n",
      "with confidence of: 0.4157 recommend ->  ['Iron Man', 'Mission: Impossible - Fallout']\n",
      "with confidence of: 0.3160 recommend ->  ['Spider-Man: No Way Home', 'Iron Man']\n",
      "with confidence of: 0.2892 recommend ->  ['Iron Man 2', 'Mission: Impossible - Fallout']\n",
      "with confidence of: 0.4239 recommend ->  ['Incredibles 2', 'Deadpool 2']\n",
      "with confidence of: 0.3532 recommend ->  ['Captain Marvel', 'Deadpool 2']\n",
      "with confidence of: 0.4206 recommend ->  ['Solo: A Star Wars Story', 'Iron Man']\n",
      "with confidence of: 0.3165 recommend ->  ['Iron Man 2', 'Spider-Man: No Way Home']\n",
      "with confidence of: 0.3330 recommend ->  ['Annihilation', 'Iron Man']\n",
      "with confidence of: 0.3023 recommend ->  ['Iron Man', 'Bohemian Rhapsody']\n",
      "with confidence of: 0.3516 recommend ->  ['Solo: A Star Wars Story', 'Deadpool 2']\n",
      "with confidence of: 0.3346 recommend ->  ['Iron Man', 'Aquaman']\n",
      "with confidence of: 0.2733 recommend ->  ['Solo: A Star Wars Story', 'Spider-Man: Into the Spider-Verse']\n",
      "with confidence of: 0.3056 recommend ->  ['Game Night', 'Iron Man']\n",
      "with confidence of: 0.3729 recommend ->  ['Iron Man', 'Inception']\n",
      "with confidence of: 0.2683 recommend ->  ['Solo: A Star Wars Story', 'Iron Man', 'Spider-Man: Into the Spider-Verse']\n",
      "with confidence of: 0.2842 recommend ->  ['Iron Man 2', 'Iron Man', 'Mission: Impossible - Fallout']\n",
      "with confidence of: 0.2919 recommend ->  ['Iron Man', 'Deadpool 2', 'Aquaman']\n",
      "with confidence of: 0.2842 recommend ->  ['Iron Man', 'Deadpool 2', 'Annihilation']\n",
      "with confidence of: 0.3357 recommend ->  ['Spider-Man: Into the Spider-Verse', 'Iron Man', 'Incredibles 2']\n",
      "with confidence of: 0.2722 recommend ->  ['Iron Man 2', 'Deadpool 2', 'Incredibles 2']\n",
      "with confidence of: 0.3286 recommend ->  ['Incredibles 2', 'Iron Man', 'Iron Man 2']\n",
      "with confidence of: 0.3193 recommend ->  ['Iron Man', 'Inception', 'Deadpool 2']\n",
      "with confidence of: 0.3499 recommend ->  ['Iron Man', 'Deadpool 2', 'Mission: Impossible - Fallout']\n",
      "with confidence of: 0.3198 recommend ->  ['Spider-Man: Into the Spider-Verse', 'Iron Man', 'Captain Marvel']\n",
      "with confidence of: 0.2853 recommend ->  ['Solo: A Star Wars Story', 'Iron Man', 'Iron Man 2']\n",
      "with confidence of: 0.3089 recommend ->  ['Spider-Man: No Way Home', 'Iron Man', 'Iron Man 2']\n",
      "with confidence of: 0.3220 recommend ->  ['Iron Man 2', 'Deadpool 2', 'Captain Marvel']\n",
      "with confidence of: 0.4151 recommend ->  ['Incredibles 2', 'Iron Man', 'Deadpool 2']\n",
      "with confidence of: 0.3067 recommend ->  ['Iron Man', 'Deadpool 2', 'Venom']\n",
      "with confidence of: 0.2963 recommend ->  ['Spider-Man: Into the Spider-Verse', 'Captain Marvel', 'Iron Man 2']\n",
      "with confidence of: 0.2694 recommend ->  ['Game Night', 'Iron Man', 'Deadpool 2']\n",
      "with confidence of: 0.3461 recommend ->  ['Solo: A Star Wars Story', 'Iron Man', 'Deadpool 2']\n",
      "with confidence of: 0.2689 recommend ->  ['Solo: A Star Wars Story', 'Iron Man', 'Incredibles 2']\n",
      "with confidence of: 0.2804 recommend ->  ['Spider-Man: Into the Spider-Verse', 'Deadpool 2', 'Incredibles 2']\n",
      "with confidence of: 0.3483 recommend ->  ['Iron Man', 'Deadpool 2', 'Captain Marvel']\n",
      "with confidence of: 0.3193 recommend ->  ['Iron Man 2', 'Iron Man', 'Captain Marvel', 'Deadpool 2']\n",
      "with confidence of: 0.2924 recommend ->  ['Iron Man 2', 'Iron Man', 'Captain Marvel', 'Spider-Man: Into the Spider-Verse']\n",
      "with confidence of: 0.2788 recommend ->  ['Incredibles 2', 'Iron Man', 'Deadpool 2', 'Spider-Man: Into the Spider-Verse']\n",
      "with confidence of: 0.2716 recommend ->  ['Iron Man 2', 'Iron Man', 'Deadpool 2', 'Incredibles 2']\n"
     ]
    }
   ],
   "source": [
    "for recom in recommendations:\n",
    "    b = str(recommendations[recom])\n",
    "    b = b + (6 - len(b)) * '0'\n",
    "    print(\"with confidence of:\", b, \"recommend -> \", list(recom))"
   ]
  },
  {
   "cell_type": "markdown",
   "metadata": {
    "id": "VwATc2K6U5qy"
   },
   "source": [
    ">  Find all recommendations with a confidence higher than 90%:"
   ]
  },
  {
   "cell_type": "code",
   "execution_count": 26,
   "metadata": {
    "id": "RzbU72OgSsd1"
   },
   "outputs": [],
   "source": [
    "conf = 0.90"
   ]
  },
  {
   "cell_type": "code",
   "execution_count": 27,
   "metadata": {
    "colab": {
     "base_uri": "https://localhost:8080/"
    },
    "executionInfo": {
     "elapsed": 4,
     "status": "ok",
     "timestamp": 1673640009629,
     "user": {
      "displayName": "Roham J",
      "userId": "05484521296017075099"
     },
     "user_tz": -60
    },
    "id": "B6jE3EkQSQiG",
    "outputId": "508bb8ad-652a-4a8d-ec01-2cec4c37e5de"
   },
   "outputs": [
    {
     "name": "stdout",
     "output_type": "stream",
     "text": [
      "['Iron Man 2'] \n",
      "\tConfidence -> 0.9617\n",
      "['Iron Man'] \n",
      "\tConfidence -> 0.9601\n",
      "['Iron Man 2', 'Iron Man'] \n",
      "\tConfidence -> 0.9384\n"
     ]
    }
   ],
   "source": [
    "for recom in recommendations:\n",
    "    if recommendations[recom] > conf:\n",
    "        b = str(recommendations[recom])\n",
    "        b = b + (6 - len(b)) * '0'       \n",
    "        print(list(recom), \"\\n\\tConfidence ->\", b)"
   ]
  },
  {
   "cell_type": "markdown",
   "metadata": {
    "id": "SdSbN6ZkuLQs"
   },
   "source": [
    "> Best recommendation:"
   ]
  },
  {
   "cell_type": "code",
   "execution_count": 28,
   "metadata": {
    "colab": {
     "base_uri": "https://localhost:8080/"
    },
    "executionInfo": {
     "elapsed": 3,
     "status": "ok",
     "timestamp": 1673640009629,
     "user": {
      "displayName": "Roham J",
      "userId": "05484521296017075099"
     },
     "user_tz": -60
    },
    "id": "TMuUGcIUlkXr",
    "outputId": "dea23c51-7d0b-4915-f133-91961aa5c736"
   },
   "outputs": [
    {
     "name": "stdout",
     "output_type": "stream",
     "text": [
      "['Iron Man 2'] \n",
      "\tConfidence -> 0.9617\n"
     ]
    }
   ],
   "source": [
    "max = 0\n",
    "movies = {}\n",
    "for recom in recommendations:\n",
    "    if recommendations[recom] > max:\n",
    "        max = recommendations[recom]\n",
    "        movies = recom\n",
    "b = str(max)\n",
    "b = b + (6 - len(b)) * '0'       \n",
    "print(list(movies), \"\\n\\tConfidence ->\", b)"
   ]
  },
  {
   "cell_type": "markdown",
   "metadata": {
    "id": "Je_SNYMpSgGW"
   },
   "source": [
    "## Source:\n",
    "\n",
    "> https://japp.io/machine-learning/apriori-algorithm-program-in-python-from-scratch/#:~:text=Apriori%20is%20an%20algorithm%20for,sufficiently%20often%20in%20the%20dataset."
   ]
  }
 ],
 "metadata": {
  "colab": {
   "authorship_tag": "ABX9TyMG1TQDqEYrmQW9dY3PE+Q3",
   "provenance": []
  },
  "kernelspec": {
   "display_name": "Python 3 (ipykernel)",
   "language": "python",
   "name": "python3"
  },
  "language_info": {
   "codemirror_mode": {
    "name": "ipython",
    "version": 3
   },
   "file_extension": ".py",
   "mimetype": "text/x-python",
   "name": "python",
   "nbconvert_exporter": "python",
   "pygments_lexer": "ipython3",
   "version": "3.9.13"
  }
 },
 "nbformat": 4,
 "nbformat_minor": 1
}
